{
 "cells": [
  {
   "cell_type": "code",
   "execution_count": 1,
   "metadata": {},
   "outputs": [],
   "source": [
    "import grader_helper as gh\n",
    "import pathlib as pl\n",
    "import pandas as pd\n",
    "import shutil\n",
    "import os\n",
    "\n",
    "root = pl.Path(r'C:\\Users\\kevin.omalley\\OneDrive - University of Limerick\\Teaching\\2023(24)\\PS4034 SPR 2023-24\\Assessments\\test')\n",
    "subs = pl.Path(r'C:\\Users\\kevin.omalley\\OneDrive - University of Limerick\\Teaching\\2023(24)\\PS4034 SPR 2023-24\\Assessments\\test\\test_submissions')\n",
    "bs_sheet = pl.Path(r'C:\\Users\\kevin.omalley\\OneDrive - University of Limerick\\Teaching\\2023(24)\\PS4034 SPR 2023-24\\Assessments\\PS4034 - EMPIRICAL PSYCHOLOGY 2 20234 SEM2_GradesExport_2024-03-11-09-34.csv')\n",
    "rubric = pl.Path(r'C:\\Users\\kevin.omalley\\OneDrive - University of Limerick\\Teaching\\2023(24)\\PS4034 SPR 2023-24\\Assessments\\test\\Documents\\qual feeback blank.xlsx')\n",
    "Assignment_name = 'Qualitative Points Grade <Numeric MaxPoints:100 Category:Final Assignment>'\n",
    "\n",
    "dl1= pl.Path(r'C:\\Users\\kevin.omalley\\OneDrive - University of Limerick\\Teaching\\2023(24)\\PS4034 SPR 2023-24\\Assessments\\test\\Qualitative lab report Download 06 May 2024 710 PM')\n",
    "dl2= pl.Path(r'C:\\Users\\kevin.omalley\\OneDrive - University of Limerick\\Teaching\\2023(24)\\PS4034 SPR 2023-24\\Assessments\\test\\Qualitative lab report Download 10 May 2024 233 PM')"
   ]
  },
  {
   "cell_type": "code",
   "execution_count": 2,
   "metadata": {},
   "outputs": [],
   "source": [
    "#copy the dl1 folder and rename it to 'test_submissions'\n",
    "def copy_and_rename_folder(source, destination):\n",
    "    \"\"\"\n",
    "    Copies a folder from the source path to the destination path with a new name.\n",
    "\n",
    "    Args:\n",
    "        source (str or pathlib.Path): The path to the folder to be copied.\n",
    "        destination (str or pathlib.Path): The new path including the new folder name.\n",
    "    \"\"\"\n",
    "    # Ensure the source is a Path object\n",
    "    source = pl.Path(source)\n",
    "    \n",
    "    # Ensure the destination is a Path object\n",
    "    destination = pl.Path(destination)\n",
    "    \n",
    "    # Copy the entire directory tree to the new location\n",
    "    if not destination.exists():\n",
    "        shutil.copytree(source, destination)\n",
    "        print(f\"Folder copied from {source.name} to {destination.name}\")\n",
    "    else:\n",
    "        print(f\"Destination folder already exists: {destination}\")"
   ]
  },
  {
   "cell_type": "code",
   "execution_count": 3,
   "metadata": {},
   "outputs": [
    {
     "name": "stdout",
     "output_type": "stream",
     "text": [
      "Folder copied from Qualitative lab report Download 06 May 2024 710 PM to test_submissions\n"
     ]
    }
   ],
   "source": [
    "copy_and_rename_folder(dl1, subs)"
   ]
  },
  {
   "cell_type": "code",
   "execution_count": 5,
   "metadata": {},
   "outputs": [],
   "source": [
    "\n",
    "\n",
    "\n",
    "\n",
    "# Create a list of all directories, taking the second part of the name split by ' - '\n",
    "names = [i.name.split(' - ')[1] for i in subs.iterdir() if i.is_dir()]\n",
    "\n",
    "# Use a set to keep track of the names we want to retain (one folder per name)\n",
    "retained_folders = set()\n",
    "\n",
    "# Directory to iterate and manipulate folders\n",
    "for folder in subs.iterdir():\n",
    "    if folder.is_dir():\n",
    "        # Extract the identifier or unique part of the name\n",
    "        folder_identifier = folder.name.split(' - ')[1]\n",
    "        \n",
    "        # Check if we have already retained a folder for this identifier\n",
    "        if folder_identifier not in retained_folders:\n",
    "            retained_folders.add(folder_identifier)\n",
    "        else:\n",
    "            # If we already have a folder for this person, remove the current one\n",
    "            shutil.rmtree(folder)  # Be careful with this, as it permanently deletes the folder\n",
    "            print(f\"Removed folder: {folder}\")\n",
    "\n",
    "\n",
    "\n",
    "\n",
    "    "
   ]
  },
  {
   "cell_type": "code",
   "execution_count": 7,
   "metadata": {},
   "outputs": [
    {
     "data": {
      "text/html": [
       "<div>\n",
       "<style scoped>\n",
       "    .dataframe tbody tr th:only-of-type {\n",
       "        vertical-align: middle;\n",
       "    }\n",
       "\n",
       "    .dataframe tbody tr th {\n",
       "        vertical-align: top;\n",
       "    }\n",
       "\n",
       "    .dataframe thead th {\n",
       "        text-align: right;\n",
       "    }\n",
       "</style>\n",
       "<table border=\"1\" class=\"dataframe\">\n",
       "  <thead>\n",
       "    <tr style=\"text-align: right;\">\n",
       "      <th></th>\n",
       "      <th>Student ID</th>\n",
       "      <th>Last Name</th>\n",
       "      <th>First Name</th>\n",
       "      <th>Qualitative Points Grade &lt;Numeric MaxPoints:100 Category:Final Assignment&gt;</th>\n",
       "    </tr>\n",
       "  </thead>\n",
       "  <tbody>\n",
       "    <tr>\n",
       "      <th>0</th>\n",
       "      <td>11048069</td>\n",
       "      <td>OBrien</td>\n",
       "      <td>Margaret</td>\n",
       "      <td>NaN</td>\n",
       "    </tr>\n",
       "    <tr>\n",
       "      <th>1</th>\n",
       "      <td>16041836</td>\n",
       "      <td>KENNEDY</td>\n",
       "      <td>SIOBHAN</td>\n",
       "      <td>NaN</td>\n",
       "    </tr>\n",
       "    <tr>\n",
       "      <th>2</th>\n",
       "      <td>20274785</td>\n",
       "      <td>Barry</td>\n",
       "      <td>Ellen</td>\n",
       "      <td>NaN</td>\n",
       "    </tr>\n",
       "    <tr>\n",
       "      <th>3</th>\n",
       "      <td>20328877</td>\n",
       "      <td>Gleeson</td>\n",
       "      <td>Tara</td>\n",
       "      <td>NaN</td>\n",
       "    </tr>\n",
       "    <tr>\n",
       "      <th>4</th>\n",
       "      <td>21236445</td>\n",
       "      <td>Scanlon</td>\n",
       "      <td>Sharon</td>\n",
       "      <td>NaN</td>\n",
       "    </tr>\n",
       "  </tbody>\n",
       "</table>\n",
       "</div>"
      ],
      "text/plain": [
       "  Student ID Last Name First Name  \\\n",
       "0   11048069    OBrien   Margaret   \n",
       "1   16041836   KENNEDY    SIOBHAN   \n",
       "2   20274785     Barry      Ellen   \n",
       "3   20328877   Gleeson       Tara   \n",
       "4   21236445   Scanlon     Sharon   \n",
       "\n",
       "   Qualitative Points Grade <Numeric MaxPoints:100 Category:Final Assignment>  \n",
       "0                                                NaN                           \n",
       "1                                                NaN                           \n",
       "2                                                NaN                           \n",
       "3                                                NaN                           \n",
       "4                                                NaN                           "
      ]
     },
     "execution_count": 7,
     "metadata": {},
     "output_type": "execute_result"
    }
   ],
   "source": [
    "a = gh.import_brightspace_classlist(bs_sheet, assignment_name=Assignment_name)\n",
    "a.head()"
   ]
  },
  {
   "cell_type": "code",
   "execution_count": 8,
   "metadata": {},
   "outputs": [
    {
     "name": "stdout",
     "output_type": "stream",
     "text": [
      "Folder renamed for OBRIEN, MARGARET (11048069)\n",
      "Folder renamed for BARRY, ELLEN (20274785)\n",
      "Folder renamed for GLEESON, TARA (20328877)\n",
      "Folder renamed for SCANLON, SHARON (21236445)\n",
      "Folder renamed for HORAN, SARAH (21238022)\n",
      "Folder renamed for COLLINSO, KYLE (21265097)\n",
      "Folder renamed for ONEILL, DAVINA (21303053)\n",
      "Folder renamed for WONGMC, ALIYAH (21305676)\n",
      "Folder renamed for WAGNERASKEY, HANNAH (21306877)\n",
      "Folder renamed for NOONAN, DAVID (21307423)\n",
      "Folder renamed for SHEEHY, EOGHAN (21308144)\n",
      "Folder renamed for OCONNOR, LAURA (21308942)\n",
      "Folder renamed for BREEN, KATHERINE (21309418)\n",
      "Folder renamed for MANNION, EABHA (21309922)\n",
      "Folder renamed for GAFFNEY, LILY (21311293)\n",
      "Folder renamed for OBRIEN, CLODAGH (21315515)\n",
      "Folder renamed for HENRY, ROISIN (21316244)\n",
      "Folder renamed for LEONARD, RACHEL (21318662)\n",
      "Folder renamed for GARVEY, ORIANA (21319456)\n",
      "Folder renamed for OROURKE, ALEAH (21320551)\n",
      "Folder renamed for OSULLIVAN, SARAH (21321167)\n",
      "Folder renamed for FITZGERALD, AOIFE (21325553)\n",
      "Folder renamed for TREACY, EMMA (21326657)\n",
      "Folder renamed for ODONNELL, DAVID (21326797)\n",
      "Folder renamed for GORMAN, NICOLE (21328617)\n",
      "Folder renamed for FLYNN, LEVI (21329753)\n",
      "Folder renamed for KERINS, EMER (21332894)\n",
      "Folder renamed for HURLEY, LAUREN (21337365)\n",
      "Folder renamed for MORGAN, CIAN (21353654)\n",
      "Folder renamed for CULLEN, THOMAS (22300171)\n",
      "Folder renamed for ONYEOCHA, CHIOMA (22305351)\n",
      "Folder renamed for MCCLAY, LAURA (22305327)\n",
      "Folder renamed for ZACHARIAH, AMY (22305548)\n",
      "Folder renamed for BRADY, KEVIN (22305637)\n",
      "Folder renamed for STACKPOOLE, MARTIN (22306668)\n",
      "Folder renamed for DISKIN, EABHA (22336532)\n",
      "Folder renamed for OCALLAGHAN, HOLLY (22336737)\n",
      "Folder renamed for SZTEJNER, JULIA (22337202)\n",
      "Folder renamed for DORAN, JESSICA (22337954)\n",
      "Folder renamed for VAUGHAN, DEARBHAILE (22338977)\n",
      "Folder renamed for NIDHUIBHIR, ROISIN (22339434)\n",
      "Folder renamed for CLANCY, ROSE (22339698)\n",
      "Folder renamed for OMAHONY, THOMAS (22339795)\n",
      "Folder renamed for CONDREN, ORLAITH (22340513)\n",
      "Folder renamed for BUGGY, MATTHEW (22340785)\n",
      "Folder renamed for GLYNN, JACK (22341617)\n",
      "Folder renamed for FORSEY, BEN (22342176)\n",
      "Folder renamed for TALTY, AINE (22342494)\n",
      "Folder renamed for TONER, NIAMH (22342389)\n",
      "Folder renamed for SINNOTT, AOIBHIN (22344276)\n",
      "Folder renamed for IBRAHAM, MICHAEL (22344489)\n",
      "Folder renamed for OMOCHERE, FAVOUR (22346252)\n",
      "Folder renamed for MEE, KAELAN (22346716)\n",
      "Folder renamed for JONES, ABBIE (22347143)\n",
      "Folder renamed for WALSH, AMY (22347178)\n",
      "Folder renamed for SMITH, GRACE (22347798)\n",
      "Folder renamed for MURPHY, OISIN (22348719)\n",
      "Folder renamed for KING, SAIDHBH (22349421)\n",
      "Folder renamed for GRADY, KATE (22350233)\n",
      "Folder renamed for DONNELLY, HANNAH (22350217)\n",
      "Folder renamed for MCDONNELL, ANNA (22351779)\n",
      "Folder renamed for QUIRKE, JENNIFER (22352171)\n",
      "Folder renamed for KEEGAN, NIAMH (22353917)\n",
      "Folder renamed for RYAN, AVA (22354093)\n",
      "Folder renamed for KELLEHER, TAMARA (22354328)\n",
      "Folder renamed for WALDRON, MICHAEL (22354549)\n",
      "Folder renamed for OCONNELL, VICKY (22354476)\n",
      "Folder renamed for HOGAN, NAOISE (22354824)\n",
      "Folder renamed for SHEERIN, ANNA (22355901)\n",
      "Folder renamed for BUZU, ELEONORA (22356266)\n",
      "Folder renamed for LEHANE, CHLOE (22356606)\n",
      "Folder renamed for OFLYNN, EMMA (22356746)\n",
      "Folder renamed for MCTIERNAN, DERMOT (22358595)\n",
      "Folder renamed for KELLY, SAOIRSE (22358854)\n",
      "Folder renamed for KELLEHER, TADGH (22359478)\n",
      "Folder renamed for DANIELS, JAMES (22360069)\n",
      "Folder renamed for ROBERTS, NIAMH (22360867)\n",
      "Folder renamed for HEFFERNAN, AVA (22361057)\n",
      "Folder renamed for OCONNELL, CATHERINE (22361669)\n",
      "Folder renamed for OSHEA, RUAIRC (22362509)\n",
      "Folder renamed for LENEHAN, CAOIMHE (22362916)\n",
      "Folder renamed for OBRIEN, CORMAC (22363408)\n",
      "Folder renamed for FOLEY, JANE (22363785)\n",
      "Folder renamed for FEENANELEVINE, JOSEPH (22364714)\n",
      "Folder renamed for CORCORAN, CAITLIN (22365621)\n",
      "Folder renamed for ODONOVAN, ORLA (22367772)\n",
      "Folder renamed for KIRBY, CAITLIN (22368663)\n",
      "Folder renamed for CARTY, JUDE (22370722)\n",
      "Folder renamed for BRICKLEY, ORLA (22370943)\n",
      "Folder renamed for MALONEYHONAN, KATELYNN (22371435)\n",
      "Folder renamed for GIWAEKEOLERE, ADETOLA (22372822)\n",
      "Folder renamed for HOWLEY, CONOR (22374213)\n",
      "Folder renamed for ODUFUWA, ANNA (22374434)\n",
      "Folder renamed for IVANOVA, MAIIA (22378367)\n",
      "Folder rename operations logged to folder_rename_log.csv.\n"
     ]
    }
   ],
   "source": [
    "gh.rename_folders(a, subs)"
   ]
  },
  {
   "cell_type": "code",
   "execution_count": 9,
   "metadata": {},
   "outputs": [],
   "source": [
    "moves = [i for i in dl2.iterdir() if i.is_dir()]\n",
    "\n",
    "for move in moves:\n",
    "    shutil.copytree(move, subs / move.name)"
   ]
  },
  {
   "cell_type": "code",
   "execution_count": 10,
   "metadata": {},
   "outputs": [
    {
     "name": "stdout",
     "output_type": "stream",
     "text": [
      "Folder renamed for OSULLIVAN, NIAMH (22359028)\n",
      "Folder renamed for MCGUINNESS, LISA (22363149)\n",
      "Folder rename operations logged to folder_rename_log.csv.\n"
     ]
    }
   ],
   "source": [
    "gh.rename_folders(a, subs)"
   ]
  }
 ],
 "metadata": {
  "kernelspec": {
   "display_name": "helper_test",
   "language": "python",
   "name": "helper_test"
  },
  "language_info": {
   "codemirror_mode": {
    "name": "ipython",
    "version": 3
   },
   "file_extension": ".py",
   "mimetype": "text/x-python",
   "name": "python",
   "nbconvert_exporter": "python",
   "pygments_lexer": "ipython3",
   "version": "3.11.2"
  }
 },
 "nbformat": 4,
 "nbformat_minor": 2
}
