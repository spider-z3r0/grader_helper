{
 "cells": [
  {
   "cell_type": "code",
   "execution_count": 1,
   "metadata": {},
   "outputs": [],
   "source": [
    "import grader_helper as gh\n",
    "import pathlib as pl\n",
    "import pandas as pd\n",
    "import shutil\n",
    "import os\n",
    "\n",
    "\n",
    "#### defining the necceary paths\n",
    "root = pl.Path(r'C:\\Users\\Kevin.OMalley\\OneDrive - University of Limerick\\Teaching\\2023(24)\\PS6022 SPR 2023-24\\Assessments\\Assignment 2')\n",
    "grader_file = root / 'graders.txt'\n",
    "assignment_name = 'Qualitative Points Grade <Numeric MaxPoints:100 Category:Final Assignment>'\n",
    "subs = root / 'test_submissions'\n",
    "bs_sheet = pl.Path(r'C:\\Users\\Kevin.OMalley\\OneDrive - University of Limerick\\Teaching\\2023(24)\\PS6022 SPR 2023-24\\Assessments\\PS6022 - ADVANCED EMPIRICAL PSYCHOLOGY 20234 SEM2_GradesExport_2024-03-11-09-32.csv')\n",
    "rubric = pl.Path(r'C:\\Users\\Kevin.OMalley\\OneDrive - University of Limerick\\Teaching\\2023(24)\\PS6022 SPR 2023-24\\Assessments\\Assignment 2\\Documents\\qual feeback blank.xlsx')\n",
    "Assignment_name = 'Qualitative Points Grade <Numeric MaxPoints:100 Category:Final Assignment>'\n",
    "\n",
    "dl1= pl.Path(r'C:\\Users\\Kevin.OMalley\\OneDrive - University of Limerick\\Teaching\\2023(24)\\PS6022 SPR 2023-24\\Assessments\\Assignment 2\\Student Submissions')\n"
   ]
  },
  {
   "cell_type": "code",
   "execution_count": 2,
   "metadata": {},
   "outputs": [],
   "source": [
    "#copy the dl1 folder and rename it to 'test_submissions'\n",
    "def copy_and_rename_folder(source, destination):\n",
    "    \"\"\"\n",
    "    Copies a folder from the source path to the destination path with a new name.\n",
    "\n",
    "    Args:\n",
    "        source (str or pathlib.Path): The path to the folder to be copied.\n",
    "        destination (str or pathlib.Path): The new path including the new folder name.\n",
    "    \"\"\"\n",
    "    # Ensure the source is a Path object\n",
    "    source = pl.Path(source)\n",
    "    \n",
    "    # Ensure the destination is a Path object\n",
    "    destination = pl.Path(destination)\n",
    "    \n",
    "    # Copy the entire directory tree to the new location\n",
    "    if not destination.exists():\n",
    "        shutil.copytree(source, destination)\n",
    "        print(f\"Folder copied from {source.name} to {destination.name}\")\n",
    "    else:\n",
    "        print(f\"Destination folder already exists: {destination}\")"
   ]
  },
  {
   "cell_type": "code",
   "execution_count": 3,
   "metadata": {},
   "outputs": [
    {
     "name": "stdout",
     "output_type": "stream",
     "text": [
      "Folder copied from Student Submissions to test_submissions\n"
     ]
    }
   ],
   "source": [
    "copy_and_rename_folder(dl1, subs)"
   ]
  },
  {
   "cell_type": "code",
   "execution_count": 4,
   "metadata": {},
   "outputs": [
    {
     "data": {
      "text/html": [
       "<div>\n",
       "<style scoped>\n",
       "    .dataframe tbody tr th:only-of-type {\n",
       "        vertical-align: middle;\n",
       "    }\n",
       "\n",
       "    .dataframe tbody tr th {\n",
       "        vertical-align: top;\n",
       "    }\n",
       "\n",
       "    .dataframe thead th {\n",
       "        text-align: right;\n",
       "    }\n",
       "</style>\n",
       "<table border=\"1\" class=\"dataframe\">\n",
       "  <thead>\n",
       "    <tr style=\"text-align: right;\">\n",
       "      <th></th>\n",
       "      <th>Student ID</th>\n",
       "      <th>Last Name</th>\n",
       "      <th>First Name</th>\n",
       "      <th>Qualitative Points Grade &lt;Numeric MaxPoints:100 Category:Final Assignment&gt;</th>\n",
       "    </tr>\n",
       "  </thead>\n",
       "  <tbody>\n",
       "    <tr>\n",
       "      <th>0</th>\n",
       "      <td>0100609</td>\n",
       "      <td>Lehane</td>\n",
       "      <td>Patricia</td>\n",
       "      <td>NaN</td>\n",
       "    </tr>\n",
       "    <tr>\n",
       "      <th>1</th>\n",
       "      <td>13012118</td>\n",
       "      <td>Darmody</td>\n",
       "      <td>BarryJohn</td>\n",
       "      <td>NaN</td>\n",
       "    </tr>\n",
       "    <tr>\n",
       "      <th>2</th>\n",
       "      <td>16041836</td>\n",
       "      <td>KENNEDY</td>\n",
       "      <td>SIOBHAN</td>\n",
       "      <td>NaN</td>\n",
       "    </tr>\n",
       "    <tr>\n",
       "      <th>3</th>\n",
       "      <td>18241557</td>\n",
       "      <td>Hayes</td>\n",
       "      <td>Laura</td>\n",
       "      <td>NaN</td>\n",
       "    </tr>\n",
       "    <tr>\n",
       "      <th>4</th>\n",
       "      <td>18251218</td>\n",
       "      <td>OShea</td>\n",
       "      <td>Sara</td>\n",
       "      <td>NaN</td>\n",
       "    </tr>\n",
       "  </tbody>\n",
       "</table>\n",
       "</div>"
      ],
      "text/plain": [
       "  Student ID Last Name First Name  \\\n",
       "0    0100609    Lehane   Patricia   \n",
       "1   13012118   Darmody  BarryJohn   \n",
       "2   16041836   KENNEDY    SIOBHAN   \n",
       "3   18241557     Hayes      Laura   \n",
       "4   18251218     OShea       Sara   \n",
       "\n",
       "   Qualitative Points Grade <Numeric MaxPoints:100 Category:Final Assignment>  \n",
       "0                                                NaN                           \n",
       "1                                                NaN                           \n",
       "2                                                NaN                           \n",
       "3                                                NaN                           \n",
       "4                                                NaN                           "
      ]
     },
     "execution_count": 4,
     "metadata": {},
     "output_type": "execute_result"
    }
   ],
   "source": [
    "a = gh.import_brightspace_classlist(bs_sheet, assignment_name=Assignment_name)\n",
    "a.head()"
   ]
  },
  {
   "cell_type": "code",
   "execution_count": 5,
   "metadata": {},
   "outputs": [
    {
     "name": "stdout",
     "output_type": "stream",
     "text": [
      "Folder renamed for DALY, IAN (19276338)\n",
      "Folder renamed for ADEDEJI, TEMITAYO (23126442)\n",
      "Folder renamed for BRADY, THERESE (23131322)\n",
      "Folder renamed for BYRNE, CIARA (23118784)\n",
      "Folder renamed for CASEY, KEVIN (19230613)\n",
      "Folder renamed for CONHEADY, LORRAINE (22295879)\n",
      "Folder renamed for CONNOLLY, CAOIMHEAILIS (19269579)\n",
      "Folder renamed for DARMODY, BARRYJOHN (13012118)\n",
      "Folder renamed for DOHENY, RACHEL (19231636)\n",
      "Folder renamed for DOHERTY, MEGAN (23043083)\n",
      "Folder renamed for DORJEE, RINZIN (23175583)\n",
      "Folder renamed for FLANAGAN, TARA (19265972)\n",
      "Folder renamed for FOLEY, RYAN (22038604)\n",
      "Folder renamed for GAFFNEY, SHAUNA (23172134)\n",
      "Folder renamed for HASTINGS, EMMA (19234929)\n",
      "Folder renamed for HAYES, LAURA (18241557)\n",
      "Folder renamed for HEDDERMAN, TAYLOR (19242387)\n",
      "Folder renamed for HOWLEY, ANNA (23074124)\n",
      "Folder renamed for KENNEDY, TADHG (19245114)\n",
      "Folder renamed for LEHANE, PATRICIA (0100609)\n",
      "Folder renamed for MARTIN, WILLIAM (22131965)\n",
      "Folder renamed for MCCARTHYDOIG, FLO (21150532)\n",
      "Folder renamed for MILSTEIN, MIRIAMDAJCZGEWAND (22295461)\n",
      "Folder renamed for MINITER, ADAM (19256833)\n",
      "Folder renamed for OREGAN, LAURYN (22145257)\n",
      "Folder renamed for OSHEA, SARA (18251218)\n",
      "Folder renamed for TOUHEY, JADE (22178244)\n",
      "Folder rename operations logged to folder_rename_log.csv.\n"
     ]
    }
   ],
   "source": [
    "gh.rename_folders(a, subs)"
   ]
  }
 ],
 "metadata": {
  "kernelspec": {
   "display_name": ".venv",
   "language": "python",
   "name": "python3"
  },
  "language_info": {
   "codemirror_mode": {
    "name": "ipython",
    "version": 3
   },
   "file_extension": ".py",
   "mimetype": "text/x-python",
   "name": "python",
   "nbconvert_exporter": "python",
   "pygments_lexer": "ipython3",
   "version": "3.12.2"
  }
 },
 "nbformat": 4,
 "nbformat_minor": 2
}
