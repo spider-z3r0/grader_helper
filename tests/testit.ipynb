{
 "cells": [
  {
   "cell_type": "code",
   "execution_count": 1,
   "metadata": {},
   "outputs": [],
   "source": [
    "import grader_helper as gh\n",
    "import pathlib as pl\n",
    "import pandas as pd\n",
    "import shutil\n",
    "import os\n",
    "\n",
    "root = pl.Path(r'C:\\Users\\kevin.omalley\\OneDrive - University of Limerick\\Teaching\\2023(24)\\PS4034 SPR 2023-24\\Assessments\\test')\n",
    "subs = pl.Path(r'C:\\Users\\kevin.omalley\\OneDrive - University of Limerick\\Teaching\\2023(24)\\PS4034 SPR 2023-24\\Assessments\\test\\test_submissions')\n",
    "bs_sheet = pl.Path(r'C:\\Users\\kevin.omalley\\OneDrive - University of Limerick\\Teaching\\2023(24)\\PS4034 SPR 2023-24\\Assessments\\PS4034 - EMPIRICAL PSYCHOLOGY 2 20234 SEM2_GradesExport_2024-03-11-09-34.csv')\n",
    "rubric = pl.Path(r'C:\\Users\\kevin.omalley\\OneDrive - University of Limerick\\Teaching\\2023(24)\\PS4034 SPR 2023-24\\Assessments\\test\\Documents\\qual feeback blank.xlsx')\n",
    "Assignment_name = 'Qualitative Points Grade <Numeric MaxPoints:100 Category:Final Assignment>'\n",
    "\n",
    "dl1= pl.Path(r'C:\\Users\\kevin.omalley\\OneDrive - University of Limerick\\Teaching\\2023(24)\\PS4034 SPR 2023-24\\Assessments\\test\\Qualitative lab report Download 06 May 2024 710 PM')\n",
    "dl2= pl.Path(r'C:\\Users\\kevin.omalley\\OneDrive - University of Limerick\\Teaching\\2023(24)\\PS4034 SPR 2023-24\\Assessments\\test\\Qualitative lab report Download 10 May 2024 233 PM')"
   ]
  },
  {
   "cell_type": "code",
   "execution_count": 2,
   "metadata": {},
   "outputs": [],
   "source": [
    "#copy the dl1 folder and rename it to 'test_submissions'\n",
    "def copy_and_rename_folder(source, destination):\n",
    "    \"\"\"\n",
    "    Copies a folder from the source path to the destination path with a new name.\n",
    "\n",
    "    Args:\n",
    "        source (str or pathlib.Path): The path to the folder to be copied.\n",
    "        destination (str or pathlib.Path): The new path including the new folder name.\n",
    "    \"\"\"\n",
    "    # Ensure the source is a Path object\n",
    "    source = pl.Path(source)\n",
    "    \n",
    "    # Ensure the destination is a Path object\n",
    "    destination = pl.Path(destination)\n",
    "    \n",
    "    # Copy the entire directory tree to the new location\n",
    "    if not destination.exists():\n",
    "        shutil.copytree(source, destination)\n",
    "        print(f\"Folder copied from {source.name} to {destination.name}\")\n",
    "    else:\n",
    "        print(f\"Destination folder already exists: {destination}\")"
   ]
  },
  {
   "cell_type": "code",
   "execution_count": 3,
   "metadata": {},
   "outputs": [
    {
     "name": "stdout",
     "output_type": "stream",
     "text": [
      "Folder copied from Qualitative lab report Download 06 May 2024 710 PM to test_submissions\n"
     ]
    }
   ],
   "source": [
    "copy_and_rename_folder(dl1, subs)"
   ]
  },
  {
   "cell_type": "code",
   "execution_count": 5,
   "metadata": {},
   "outputs": [],
   "source": [
    "\n",
    "\n",
    "\n",
    "\n",
    "# Create a list of all directories, taking the second part of the name split by ' - '\n",
    "names = [i.name.split(' - ')[1] for i in subs.iterdir() if i.is_dir()]\n",
    "\n",
    "# Use a set to keep track of the names we want to retain (one folder per name)\n",
    "retained_folders = set()\n",
    "\n",
    "# Directory to iterate and manipulate folders\n",
    "for folder in subs.iterdir():\n",
    "    if folder.is_dir():\n",
    "        # Extract the identifier or unique part of the name\n",
    "        folder_identifier = folder.name.split(' - ')[1]\n",
    "        \n",
    "        # Check if we have already retained a folder for this identifier\n",
    "        if folder_identifier not in retained_folders:\n",
    "            retained_folders.add(folder_identifier)\n",
    "        else:\n",
    "            # If we already have a folder for this person, remove the current one\n",
    "            shutil.rmtree(folder)  # Be careful with this, as it permanently deletes the folder\n",
    "            print(f\"Removed folder: {folder}\")\n",
    "\n",
    "\n",
    "\n",
    "\n",
    "    "
   ]
  },
  {
   "cell_type": "code",
   "execution_count": 7,
   "metadata": {},
   "outputs": [
    {
     "data": {
      "text/html": [
       "<div>\n",
       "<style scoped>\n",
       "    .dataframe tbody tr th:only-of-type {\n",
       "        vertical-align: middle;\n",
       "    }\n",
       "\n",
       "    .dataframe tbody tr th {\n",
       "        vertical-align: top;\n",
       "    }\n",
       "\n",
       "    .dataframe thead th {\n",
       "        text-align: right;\n",
       "    }\n",
       "</style>\n",
       "<table border=\"1\" class=\"dataframe\">\n",
       "  <thead>\n",
       "    <tr style=\"text-align: right;\">\n",
       "      <th></th>\n",
       "      <th>Student ID</th>\n",
       "      <th>Last Name</th>\n",
       "      <th>First Name</th>\n",
       "      <th>Qualitative Points Grade &lt;Numeric MaxPoints:100 Category:Final Assignment&gt;</th>\n",
       "    </tr>\n",
       "  </thead>\n",
       "  <tbody>\n",
       "    <tr>\n",
       "      <th>0</th>\n",
       "      <td>11048069</td>\n",
       "      <td>OBrien</td>\n",
       "      <td>Margaret</td>\n",
       "      <td>NaN</td>\n",
       "    </tr>\n",
       "    <tr>\n",
       "      <th>1</th>\n",
       "      <td>16041836</td>\n",
       "      <td>KENNEDY</td>\n",
       "      <td>SIOBHAN</td>\n",
       "      <td>NaN</td>\n",
       "    </tr>\n",
       "    <tr>\n",
       "      <th>2</th>\n",
       "      <td>20274785</td>\n",
       "      <td>Barry</td>\n",
       "      <td>Ellen</td>\n",
       "      <td>NaN</td>\n",
       "    </tr>\n",
       "    <tr>\n",
       "      <th>3</th>\n",
       "      <td>20328877</td>\n",
       "      <td>Gleeson</td>\n",
       "      <td>Tara</td>\n",
       "      <td>NaN</td>\n",
       "    </tr>\n",
       "    <tr>\n",
       "      <th>4</th>\n",
       "      <td>21236445</td>\n",
       "      <td>Scanlon</td>\n",
       "      <td>Sharon</td>\n",
       "      <td>NaN</td>\n",
       "    </tr>\n",
       "  </tbody>\n",
       "</table>\n",
       "</div>"
      ],
      "text/plain": [
       "  Student ID Last Name First Name  \\\n",
       "0   11048069    OBrien   Margaret   \n",
       "1   16041836   KENNEDY    SIOBHAN   \n",
       "2   20274785     Barry      Ellen   \n",
       "3   20328877   Gleeson       Tara   \n",
       "4   21236445   Scanlon     Sharon   \n",
       "\n",
       "   Qualitative Points Grade <Numeric MaxPoints:100 Category:Final Assignment>  \n",
       "0                                                NaN                           \n",
       "1                                                NaN                           \n",
       "2                                                NaN                           \n",
       "3                                                NaN                           \n",
       "4                                                NaN                           "
      ]
     },
     "execution_count": 7,
     "metadata": {},
     "output_type": "execute_result"
    }
   ],
   "source": [
    "a = gh.import_brightspace_classlist(bs_sheet, assignment_name=Assignment_name)\n",
    "a.head()"
   ]
  },
  {
   "cell_type": "code",
   "execution_count": null,
   "metadata": {},
   "outputs": [],
   "source": [
    "gh.rename_folders(a, subs)"
   ]
  }
 ],
 "metadata": {
  "kernelspec": {
   "display_name": "helper_test",
   "language": "python",
   "name": "helper_test"
  },
  "language_info": {
   "codemirror_mode": {
    "name": "ipython",
    "version": 3
   },
   "file_extension": ".py",
   "mimetype": "text/x-python",
   "name": "python",
   "nbconvert_exporter": "python",
   "pygments_lexer": "ipython3",
   "version": "3.11.2"
  }
 },
 "nbformat": 4,
 "nbformat_minor": 2
}
